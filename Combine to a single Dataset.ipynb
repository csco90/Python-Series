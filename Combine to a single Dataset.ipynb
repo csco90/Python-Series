{
 "cells": [
  {
   "cell_type": "markdown",
   "metadata": {},
   "source": [
    "# Combining multiple files into a single DataFrame using pandas"
   ]
  },
  {
   "cell_type": "markdown",
   "metadata": {},
   "source": [
    "By: [Claudio Castillo](https://linkedin.com/in/claudio-santiago-castillo-oliva-61a420111)\n",
    "<br>\n",
    "Data Analyst at IRM"
   ]
  },
  {
   "cell_type": "markdown",
   "metadata": {},
   "source": [
    "Datasets downloaded from [Kaggle.com](https://Kaggle.com)"
   ]
  },
  {
   "cell_type": "markdown",
   "metadata": {},
   "source": [
    "#### Importing the packages"
   ]
  },
  {
   "cell_type": "code",
   "execution_count": 8,
   "metadata": {},
   "outputs": [],
   "source": [
    "import os\n",
    "import pandas as pd"
   ]
  },
  {
   "cell_type": "markdown",
   "metadata": {},
   "source": [
    "#### Locating the files path and store them in a list"
   ]
  },
  {
   "cell_type": "code",
   "execution_count": 9,
   "metadata": {},
   "outputs": [
    {
     "data": {
      "text/plain": [
       "['tomslee_airbnb_miami_0130_2015-08-17.csv',\n",
       " 'tomslee_airbnb_miami_0165_2015-10-03.csv',\n",
       " 'tomslee_airbnb_miami_0176_2015-10-18.csv',\n",
       " 'tomslee_airbnb_miami_0204_2015-11-19.csv',\n",
       " 'tomslee_airbnb_miami_0229_2015-12-12.csv',\n",
       " 'tomslee_airbnb_miami_0263_2016-01-13.csv',\n",
       " 'tomslee_airbnb_miami_0319_2016-02-12.csv',\n",
       " 'tomslee_airbnb_miami_0338_2016-03-14.csv',\n",
       " 'tomslee_airbnb_miami_0380_2016-04-12.csv',\n",
       " 'tomslee_airbnb_miami_0414_2016-05-15.csv',\n",
       " 'tomslee_airbnb_miami_0455_2016-06-15.csv',\n",
       " 'tomslee_airbnb_miami_0483_2016-07-14.csv',\n",
       " 'tomslee_airbnb_miami_0518_2016-08-16.csv',\n",
       " 'tomslee_airbnb_miami_0560_2016-09-14.csv',\n",
       " 'tomslee_airbnb_miami_0604_2016-10-15.csv',\n",
       " 'tomslee_airbnb_miami_0643_2016-11-18.csv',\n",
       " 'tomslee_airbnb_miami_0700_2016-12-21.csv',\n",
       " 'tomslee_airbnb_miami_0773_2017-01-13.csv',\n",
       " 'tomslee_airbnb_miami_0852_2017-02-12.csv',\n",
       " 'tomslee_airbnb_miami_0925_2017-03-12.csv',\n",
       " 'tomslee_airbnb_miami_1037_2017-04-07.csv',\n",
       " 'tomslee_airbnb_miami_1181_2017-05-04.csv',\n",
       " 'tomslee_airbnb_miami_1303_2017-06-04.csv',\n",
       " 'tomslee_airbnb_miami_1423_2017-07-09.csv']"
      ]
     },
     "execution_count": 9,
     "metadata": {},
     "output_type": "execute_result"
    }
   ],
   "source": [
    "files = os.listdir('data')\n",
    "files"
   ]
  },
  {
   "cell_type": "markdown",
   "metadata": {},
   "source": [
    "#### Initialize an empty DataFrame"
   ]
  },
  {
   "cell_type": "code",
   "execution_count": 5,
   "metadata": {},
   "outputs": [],
   "source": [
    "df=pd.DataFrame()"
   ]
  },
  {
   "cell_type": "markdown",
   "metadata": {},
   "source": [
    "#### Iterating over each file and what read to the main DataFrame"
   ]
  },
  {
   "cell_type": "code",
   "execution_count": 4,
   "metadata": {},
   "outputs": [
    {
     "name": "stdout",
     "output_type": "stream",
     "text": [
      "Uploading File: tomslee_airbnb_miami_0130_2015-08-17.csv Columns:  15 Columns,  6947  Rows,  6947  Cummulative rows\n",
      "Uploading File: tomslee_airbnb_miami_0165_2015-10-03.csv Columns:  15 Columns,  7057  Rows,  14004  Cummulative rows\n",
      "Uploading File: tomslee_airbnb_miami_0176_2015-10-18.csv Columns:  15 Columns,  7414  Rows,  21418  Cummulative rows\n",
      "Uploading File: tomslee_airbnb_miami_0204_2015-11-19.csv Columns:  15 Columns,  7676  Rows,  29094  Cummulative rows\n",
      "Uploading File: tomslee_airbnb_miami_0229_2015-12-12.csv Columns:  15 Columns,  8349  Rows,  37443  Cummulative rows\n",
      "Uploading File: tomslee_airbnb_miami_0263_2016-01-13.csv Columns:  15 Columns,  8553  Rows,  45996  Cummulative rows\n",
      "Uploading File: tomslee_airbnb_miami_0319_2016-02-12.csv Columns:  15 Columns,  8855  Rows,  54851  Cummulative rows\n",
      "Uploading File: tomslee_airbnb_miami_0338_2016-03-14.csv Columns:  15 Columns,  9468  Rows,  64319  Cummulative rows\n",
      "Uploading File: tomslee_airbnb_miami_0380_2016-04-12.csv Columns:  15 Columns,  7032  Rows,  71351  Cummulative rows\n",
      "Uploading File: tomslee_airbnb_miami_0414_2016-05-15.csv Columns:  15 Columns,  7243  Rows,  78594  Cummulative rows\n",
      "Uploading File: tomslee_airbnb_miami_0455_2016-06-15.csv Columns:  15 Columns,  7160  Rows,  85754  Cummulative rows\n",
      "Uploading File: tomslee_airbnb_miami_0483_2016-07-14.csv Columns:  15 Columns,  7244  Rows,  92998  Cummulative rows\n",
      "Uploading File: tomslee_airbnb_miami_0518_2016-08-16.csv Columns:  15 Columns,  7211  Rows,  100209  Cummulative rows\n",
      "Uploading File: tomslee_airbnb_miami_0560_2016-09-14.csv Columns:  15 Columns,  7190  Rows,  107399  Cummulative rows\n",
      "Uploading File: tomslee_airbnb_miami_0604_2016-10-15.csv Columns:  15 Columns,  6562  Rows,  113961  Cummulative rows\n",
      "Uploading File: tomslee_airbnb_miami_0643_2016-11-18.csv Columns:  15 Columns,  6854  Rows,  120815  Cummulative rows\n",
      "Uploading File: tomslee_airbnb_miami_0700_2016-12-21.csv Columns:  15 Columns,  9808  Rows,  130623  Cummulative rows\n",
      "Uploading File: tomslee_airbnb_miami_0773_2017-01-13.csv Columns:  15 Columns,  7810  Rows,  138433  Cummulative rows\n",
      "Uploading File: tomslee_airbnb_miami_0852_2017-02-12.csv Columns:  15 Columns,  7845  Rows,  146278  Cummulative rows\n",
      "Uploading File: tomslee_airbnb_miami_0925_2017-03-12.csv Columns:  15 Columns,  7663  Rows,  153941  Cummulative rows\n",
      "Uploading File: tomslee_airbnb_miami_1037_2017-04-07.csv Columns:  15 Columns,  7586  Rows,  161527  Cummulative rows\n",
      "Uploading File: tomslee_airbnb_miami_1181_2017-05-04.csv Columns:  21 Columns,  7948  Rows,  169475  Cummulative rows\n",
      "Uploading File: tomslee_airbnb_miami_1303_2017-06-04.csv "
     ]
    },
    {
     "name": "stderr",
     "output_type": "stream",
     "text": [
      "C:\\ProgramData\\Anaconda3\\lib\\site-packages\\pandas\\core\\frame.py:6201: FutureWarning: Sorting because non-concatenation axis is not aligned. A future version\n",
      "of pandas will change to not sort by default.\n",
      "\n",
      "To accept the future behavior, pass 'sort=True'.\n",
      "\n",
      "To retain the current behavior and silence the warning, pass sort=False\n",
      "\n",
      "  sort=sort)\n"
     ]
    },
    {
     "name": "stdout",
     "output_type": "stream",
     "text": [
      "Columns:  21 Columns,  9608  Rows,  179083  Cummulative rows\n",
      "Uploading File: tomslee_airbnb_miami_1423_2017-07-09.csv Columns:  21 Columns,  8824  Rows,  187907  Cummulative rows\n"
     ]
    }
   ],
   "source": [
    "for i in files:\n",
    "    print('Uploading File:', i, end=\" \")\n",
    "    try:\n",
    "        df_ph = pd.read_csv('data/'+i) \n",
    "        df_ph['data_source'] = i\n",
    "        df = df.append(df_ph)\n",
    "        print('Columns: ', len(df_ph.columns), 'Columns, ', len(df_ph), \" Rows, \", len(df), ' Cummulative rows' )\n",
    "    except:\n",
    "        print('Error')"
   ]
  },
  {
   "cell_type": "markdown",
   "metadata": {},
   "source": [
    "## How to do the inverse process?"
   ]
  }
 ],
 "metadata": {
  "kernelspec": {
   "display_name": "Python 3",
   "language": "python",
   "name": "python3"
  },
  "language_info": {
   "codemirror_mode": {
    "name": "ipython",
    "version": 3
   },
   "file_extension": ".py",
   "mimetype": "text/x-python",
   "name": "python",
   "nbconvert_exporter": "python",
   "pygments_lexer": "ipython3",
   "version": "3.6.5"
  }
 },
 "nbformat": 4,
 "nbformat_minor": 2
}
